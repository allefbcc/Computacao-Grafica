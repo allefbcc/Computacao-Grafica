{
  "nbformat": 4,
  "nbformat_minor": 0,
  "metadata": {
    "colab": {
      "provenance": [],
      "authorship_tag": "ABX9TyPWapP5ixmtVgquEwUIEfMJ",
      "include_colab_link": true
    },
    "kernelspec": {
      "name": "python3",
      "display_name": "Python 3"
    },
    "language_info": {
      "name": "python"
    }
  },
  "cells": [
    {
      "cell_type": "markdown",
      "metadata": {
        "id": "view-in-github",
        "colab_type": "text"
      },
      "source": [
        "<a href=\"https://colab.research.google.com/github/allefbcc/Computacao-Grafica/blob/main/%C3%81llef_Robson_CG_Vers%C3%A3o_1_0.ipynb\" target=\"_parent\"><img src=\"https://colab.research.google.com/assets/colab-badge.svg\" alt=\"Open In Colab\"/></a>"
      ]
    },
    {
      "cell_type": "code",
      "source": [
        "import numpy as np\n",
        "from google.colab import files\n",
        "\n",
        "def read_off(file_path):\n",
        "    with open(file_path, 'r') as file:\n",
        "        if 'OFF' != file.readline().strip():\n",
        "            raise ValueError('Not a valid OFF header')\n",
        "        n_verts, n_faces, _ = map(int, file.readline().strip().split(' '))\n",
        "        vertices = []\n",
        "        faces = []\n",
        "\n",
        "        for _ in range(n_verts):\n",
        "            vertices.append(list(map(float, file.readline().strip().split(' '))))\n",
        "\n",
        "        for _ in range(n_faces):\n",
        "            face = list(map(int, file.readline().strip().split(' ')))\n",
        "            faces.append(face[1:])  # Ignorando o primeiro número, pois ele indica o número de vértices na face\n",
        "\n",
        "    return np.array(vertices), faces\n",
        "\n",
        "class FaceVertexStructure:\n",
        "    def __init__(self, vertices, faces):\n",
        "        self.vertices = np.array(vertices)\n",
        "        self.faces = faces\n",
        "\n",
        "    def display_info(self):\n",
        "        print(f\"Number of vertices: {self.vertices.shape[0]}\")\n",
        "        print(f\"Number of faces: {len(self.faces)}\")\n",
        "        print(\"Vertices:\")\n",
        "        print(self.vertices)\n",
        "        print(\"Faces:\")\n",
        "        print(self.faces)\n",
        "\n",
        "    def add_face(self, new_face):\n",
        "        self.faces.append(new_face)\n",
        "\n",
        "def upload_and_process():\n",
        "    # Carregar arquivo no Colab\n",
        "    uploaded = files.upload()\n",
        "\n",
        "    for file_name in uploaded.keys():\n",
        "        print(f'{file_name} foi carregado com sucesso!')\n",
        "\n",
        "        # Ler o arquivo OFF\n",
        "        vertices, faces = read_off(file_name)\n",
        "        fv_structure = FaceVertexStructure(vertices, faces)\n",
        "\n",
        "        # Mostrar informações da estrutura\n",
        "        fv_structure.display_info()\n",
        "\n",
        "# Upload e processamento do primeiro arquivo\n",
        "print(\"Por favor, faça o upload do primeiro arquivo OFF (triangles.off):\")\n",
        "upload_and_process()\n",
        "\n",
        "# Upload e processamento do segundo arquivo\n",
        "print(\"Por favor, faça o upload do segundo arquivo OFF (hand_hybrid.off):\")\n",
        "upload_and_process()\n"
      ],
      "metadata": {
        "id": "KARyowQONNR1"
      },
      "execution_count": null,
      "outputs": []
    }
  ]
}