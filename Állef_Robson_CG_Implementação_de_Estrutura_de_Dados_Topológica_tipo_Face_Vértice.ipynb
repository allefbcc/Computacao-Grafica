{
  "nbformat": 4,
  "nbformat_minor": 0,
  "metadata": {
    "colab": {
      "provenance": [],
      "authorship_tag": "ABX9TyNwDs+3ecsccv5vrw4jQEGG",
      "include_colab_link": true
    },
    "kernelspec": {
      "name": "python3",
      "display_name": "Python 3"
    },
    "language_info": {
      "name": "python"
    }
  },
  "cells": [
    {
      "cell_type": "markdown",
      "metadata": {
        "id": "view-in-github",
        "colab_type": "text"
      },
      "source": [
        "<a href=\"https://colab.research.google.com/github/allefbcc/Computacao-Grafica/blob/main/%C3%81llef_Robson_CG_Implementa%C3%A7%C3%A3o_de_Estrutura_de_Dados_Topol%C3%B3gica_tipo_Face_V%C3%A9rtice.ipynb\" target=\"_parent\"><img src=\"https://colab.research.google.com/assets/colab-badge.svg\" alt=\"Open In Colab\"/></a>"
      ]
    },
    {
      "cell_type": "code",
      "execution_count": null,
      "metadata": {
        "id": "gz-uvfyw3LZj"
      },
      "outputs": [],
      "source": []
    }
  ]
}